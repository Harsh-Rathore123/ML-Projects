{
 "cells": [
  {
   "cell_type": "markdown",
   "metadata": {
    "id": "wn_zlKyYlyrY"
   },
   "source": [
    "Project Property Price Prediction using : simple lr, ols, ridge , lasso\n"
   ]
  },
  {
   "cell_type": "markdown",
   "metadata": {
    "id": "bjeNFHIUl90C"
   },
   "source": [
    "Importing"
   ]
  },
  {
   "cell_type": "code",
   "execution_count": null,
   "metadata": {
    "colab": {
     "base_uri": "https://localhost:8080/"
    },
    "id": "dSX_lCRDl_xw",
    "outputId": "f2d18866-3895-4b9b-acea-ed532cec9e47"
   },
   "outputs": [
    {
     "name": "stdout",
     "output_type": "stream",
     "text": [
      "done\n"
     ]
    }
   ],
   "source": [
    "import numpy as np\n",
    "import pandas as pd\n",
    "import matplotlib.pyplot as plt\n",
    "import seaborn as sns\n",
    "\n",
    "from sklearn.preprocessing import StandardScaler\n",
    "from sklearn.linear_model import LinearRegression, Ridge, Lasso\n",
    "\n",
    "from sklearn.metrics import mean_absolute_error, mean_squared_error,r2_score\n",
    "\n",
    "import warnings\n",
    "warnings.filterwarnings('ignore')\n",
    "print('done')"
   ]
  },
  {
   "cell_type": "markdown",
   "metadata": {
    "id": "3vzD35XloVcT"
   },
   "source": [
    "Loading Dataset"
   ]
  },
  {
   "cell_type": "code",
   "execution_count": null,
   "metadata": {
    "id": "nw81wFSwoYys"
   },
   "outputs": [],
   "source": [
    "from sklearn.datasets import fetch_california_housing\n",
    "\n",
    "california_housing = fetch_california_housing()"
   ]
  },
  {
   "cell_type": "code",
   "execution_count": null,
   "metadata": {
    "colab": {
     "base_uri": "https://localhost:8080/",
     "height": 193
    },
    "id": "_yXYF46bpcyi",
    "outputId": "932e42d2-549b-4483-e72e-99ff9a5978cb"
   },
   "outputs": [
    {
     "ename": "NameError",
     "evalue": "name 'data' is not defined",
     "output_type": "error",
     "traceback": [
      "\u001b[0;31m---------------------------------------------------------------------------\u001b[0m",
      "\u001b[0;31mNameError\u001b[0m                                 Traceback (most recent call last)",
      "\u001b[0;32m<ipython-input-8-0db3db7890c9>\u001b[0m in \u001b[0;36m<cell line: 3>\u001b[0;34m()\u001b[0m\n\u001b[1;32m      1\u001b[0m \u001b[0mpd\u001b[0m\u001b[0;34m.\u001b[0m\u001b[0mDataFrame\u001b[0m\u001b[0;34m(\u001b[0m\u001b[0mcalifornia_housing\u001b[0m\u001b[0;34m[\u001b[0m\u001b[0;34m'data'\u001b[0m\u001b[0;34m]\u001b[0m\u001b[0;34m,\u001b[0m \u001b[0mcolumns\u001b[0m\u001b[0;34m=\u001b[0m\u001b[0mcalifornia_housing\u001b[0m\u001b[0;34m.\u001b[0m\u001b[0mfeature_names\u001b[0m\u001b[0;34m)\u001b[0m\u001b[0;34m\u001b[0m\u001b[0;34m\u001b[0m\u001b[0m\n\u001b[1;32m      2\u001b[0m \u001b[0;34m\u001b[0m\u001b[0m\n\u001b[0;32m----> 3\u001b[0;31m \u001b[0mdata\u001b[0m\u001b[0;34m[\u001b[0m\u001b[0;34m'price'\u001b[0m\u001b[0;34m]\u001b[0m \u001b[0;34m=\u001b[0m \u001b[0mcalifornia_housing\u001b[0m\u001b[0;34m[\u001b[0m\u001b[0;34m'target'\u001b[0m\u001b[0;34m]\u001b[0m\u001b[0;34m\u001b[0m\u001b[0;34m\u001b[0m\u001b[0m\n\u001b[0m\u001b[1;32m      4\u001b[0m \u001b[0mdata\u001b[0m\u001b[0;34m.\u001b[0m\u001b[0mhead\u001b[0m\u001b[0;34m(\u001b[0m\u001b[0;34m)\u001b[0m\u001b[0;34m\u001b[0m\u001b[0;34m\u001b[0m\u001b[0m\n",
      "\u001b[0;31mNameError\u001b[0m: name 'data' is not defined"
     ]
    }
   ],
   "source": [
    "pd.DataFrame(california_housing['data'], columns=california_housing.feature_names)\n",
    "\n",
    "data['price'] = california_housing['target']\n",
    "data.head()"
   ]
  },
  {
   "cell_type": "markdown",
   "metadata": {
    "id": "ekBkz5Vostcg"
   },
   "source": [
    "Exploratory Data Analysis EDA"
   ]
  },
  {
   "cell_type": "code",
   "execution_count": null,
   "metadata": {
    "id": "w380uZsos2bD"
   },
   "outputs": [],
   "source": [
    "data.shape"
   ]
  },
  {
   "cell_type": "code",
   "execution_count": null,
   "metadata": {
    "id": "LF0-HofAs7id"
   },
   "outputs": [],
   "source": [
    "data.columns"
   ]
  },
  {
   "cell_type": "code",
   "execution_count": null,
   "metadata": {
    "id": "gsnt9mxXtWw3"
   },
   "outputs": [],
   "source": [
    "data.info()"
   ]
  },
  {
   "cell_type": "code",
   "execution_count": null,
   "metadata": {
    "id": "3JrWSksktZFa"
   },
   "outputs": [],
   "source": [
    "data['HouseAge'].value_counts().sort_values()"
   ]
  },
  {
   "cell_type": "code",
   "execution_count": null,
   "metadata": {
    "id": "GXl_r-_huaRW"
   },
   "outputs": [],
   "source": [
    "data.describe()"
   ]
  },
  {
   "cell_type": "code",
   "execution_count": null,
   "metadata": {
    "id": "D8PdWKbGu0EP"
   },
   "outputs": [],
   "source": [
    "data.isnull().sum()"
   ]
  },
  {
   "cell_type": "code",
   "execution_count": null,
   "metadata": {
    "id": "8e2Tt0AIvQdL"
   },
   "outputs": [],
   "source": [
    "sns.heatmap(data.cor(), annot=True)\n",
    "plt.show()"
   ]
  },
  {
   "cell_type": "code",
   "execution_count": null,
   "metadata": {
    "id": "cQvUrtA7vhBp"
   },
   "outputs": [],
   "source": [
    "sns.pairplot(data)\n",
    "plt.show()"
   ]
  },
  {
   "cell_type": "code",
   "execution_count": null,
   "metadata": {
    "id": "wqUXOhbLwWed"
   },
   "outputs": [],
   "source": [
    "data['MedInc'].plot.hist()\n",
    "plt.show()"
   ]
  },
  {
   "cell_type": "code",
   "execution_count": null,
   "metadata": {
    "id": "mM0QUpspxSY6"
   },
   "outputs": [],
   "source": [
    "data['price'].plot.hist()\n",
    "plt.show()"
   ]
  },
  {
   "cell_type": "markdown",
   "metadata": {
    "id": "axUYGxZxyjD-"
   },
   "source": [
    "Data Preprocessing"
   ]
  },
  {
   "cell_type": "code",
   "execution_count": null,
   "metadata": {
    "id": "zq31QT1lyll2"
   },
   "outputs": [],
   "source": [
    "X = data.drop('price',axis = 1)\n",
    "X.sample()"
   ]
  },
  {
   "cell_type": "code",
   "execution_count": null,
   "metadata": {
    "id": "N35bDfXHy_OR"
   },
   "outputs": [],
   "source": [
    "scaler = StandardScaler\n",
    "\n",
    "X_scalled = scaler.fit_transform(X)\n",
    "X_scalled"
   ]
  },
  {
   "cell_type": "markdown",
   "metadata": {
    "id": "PQCwaDhv0Olx"
   },
   "source": [
    "Train Test Split"
   ]
  },
  {
   "cell_type": "code",
   "execution_count": null,
   "metadata": {
    "id": "Eo6SF2930RtD"
   },
   "outputs": [],
   "source": [
    "from sklearn.model_selection import train_test_split\n",
    "\n",
    "X = X_scalled\n",
    "y = data['price']\n",
    "\n",
    "X_train, X_test, y_train, y_test = train_test_split(X,y, test_size=0.2, random_state=42)\n",
    "print('done')"
   ]
  },
  {
   "cell_type": "markdown",
   "metadata": {
    "id": "EpycokBv2BZ4"
   },
   "source": [
    "Model Training"
   ]
  },
  {
   "cell_type": "code",
   "execution_count": null,
   "metadata": {
    "id": "gs0-BjsV2EGQ"
   },
   "outputs": [],
   "source": [
    "lr = LinearRegression\n",
    "lr.fit(X_train, y_train)"
   ]
  },
  {
   "cell_type": "code",
   "execution_count": null,
   "metadata": {
    "id": "HKo1c4hm2wb9"
   },
   "outputs": [],
   "source": [
    "y_pred_lr = lr.predict(X_test)"
   ]
  },
  {
   "cell_type": "code",
   "execution_count": null,
   "metadata": {
    "id": "QIXavGvy3Aij"
   },
   "outputs": [],
   "source": [
    "mae_lr = mean_absolute_error(y_test, y_pred_lr)\n",
    "mse_lr = mean_squared_error(y_test, y_pred_lr)\n",
    "rmse_lr = np.sqrt(mse_lr)\n",
    "r2_lr = r2_score(y_test, y_pred_lr)\n"
   ]
  },
  {
   "cell_type": "code",
   "execution_count": null,
   "metadata": {
    "id": "ftoQC-C237Rb"
   },
   "outputs": [],
   "source": [
    "print('Linear Regression Performance:')\n",
    "print('MAE:', mae_lr)\n",
    "print('MSE:', mse_lr)\n",
    "print('RMSE:', rmse_lr)\n",
    "print('R-squared:', r2_lr)"
   ]
  },
  {
   "cell_type": "code",
   "execution_count": null,
   "metadata": {
    "id": "VN9asRRy5wcS"
   },
   "outputs": [],
   "source": [
    "ridge_model = Ridge()\n",
    "ridge_model.fit(X_train, y_train)"
   ]
  },
  {
   "cell_type": "code",
   "execution_count": null,
   "metadata": {
    "id": "yG644ydL7D1-"
   },
   "outputs": [],
   "source": [
    "y_pred_ridge = ridge_model.predict(X_test)"
   ]
  },
  {
   "cell_type": "code",
   "execution_count": null,
   "metadata": {
    "id": "Yv6_k4yl7UfW"
   },
   "outputs": [],
   "source": [
    "mae_ridge = mean_absolute_error(y_test, y_pred_ridge)\n",
    "mse_ridge = mean_squared_error(y_test, y_pred_ridge)\n",
    "rmse_ridge = np.sqrt(mse_ridge)\n",
    "r2_ridge = r2_score(y_test, y_pred_ridge)\n"
   ]
  },
  {
   "cell_type": "code",
   "execution_count": null,
   "metadata": {
    "id": "U6xiD_YR7xjH"
   },
   "outputs": [],
   "source": [
    "print('Ridge Regression Performance:')\n",
    "print('MAE:', mae_ridge)\n",
    "print('MSE:', mse_ridge)\n",
    "print('RMSE:', rmse_ridge)\n",
    "print('R-squared:', r2_ridge)"
   ]
  },
  {
   "cell_type": "code",
   "execution_count": null,
   "metadata": {
    "id": "NCv7V1qz8mZK"
   },
   "outputs": [],
   "source": [
    "lasso = Lasso(alpha=0.1)\n",
    "lasso.fit(X_train, y_train)\n",
    "\n",
    "y_pred_lasso = lasso_model.predict(X_test)\n",
    "\n",
    "mae_lasso = mean_absolute_error(y_test, y_pred_lasso)\n",
    "mse_lasso = mean_squared_error(y_test, y_pred_lasso)\n",
    "rmse_lasso = np.sqrt(mse_lasso)\n",
    "r2_lasso = r2_score(y_test, y_pred_lasso)\n",
    "\n",
    "print('Lasso Regression Performance:')\n",
    "print('MAE:', mae_lasso)\n",
    "print('MSE:', mse_lasso)\n",
    "print('RMSE:', rmse_lasso)\n",
    "print('R-squared:', r2_lasso)\n"
   ]
  },
  {
   "cell_type": "code",
   "execution_count": null,
   "metadata": {
    "id": "0YEdiYA59yEU"
   },
   "outputs": [],
   "source": [
    "X_train"
   ]
  },
  {
   "cell_type": "code",
   "execution_count": null,
   "metadata": {
    "id": "5Ke-KyJqI65F"
   },
   "outputs": [],
   "source": [
    "import statsmodels.api as sm\n",
    "new_X_train = sm.add_constant(X_train)\n",
    "\n",
    "ols_model = sm.OLS(y_train, new_X_train)\n",
    "ols_model.summary()"
   ]
  },
  {
   "cell_type": "code",
   "execution_count": null,
   "metadata": {
    "id": "tu5cIe22KF3p"
   },
   "outputs": [],
   "source": [
    "new_X_test = sm.add_constant(X_test)\n",
    "y_pred_ols = ols_model.predict(new_X_test)"
   ]
  },
  {
   "cell_type": "code",
   "execution_count": null,
   "metadata": {
    "id": "OZnH0iyoK6fl"
   },
   "outputs": [],
   "source": [
    "mae_ols = mean_absolute_error(y_test, y_pred_ols)\n",
    "mse_ols = mean_squared_error(y_test, y_pred_ols)\n",
    "rmse_ols = np.sqrt(mse_ols)\n",
    "r2_ols = r2_score(y_test, y_pred_ols)\n"
   ]
  },
  {
   "cell_type": "code",
   "execution_count": null,
   "metadata": {
    "id": "wKRw33Q4Lzru"
   },
   "outputs": [],
   "source": [
    "print('OLS Performance:')\n",
    "print('MAE:', mae_ols)\n",
    "print('MSE:', mse_ols)\n",
    "print('RMSE:', rmse_ols)\n",
    "print('R-squared:', r2_ols)\n"
   ]
  },
  {
   "cell_type": "markdown",
   "metadata": {
    "id": "Zw08k3jBNODm"
   },
   "source": [
    "Model Evaluation"
   ]
  },
  {
   "cell_type": "code",
   "execution_count": null,
   "metadata": {
    "id": "2oo4O9XFNU6o"
   },
   "outputs": [],
   "source": [
    "model_info{\n",
    "    'Model': ['Linear Regression','Ridge Regression','Lasso Regression','OLS Method'],\n",
    "    'MAE': [mae_lr, mae_ridge, mae_lasso, mae_ols],\n",
    "    'MSE': [mse_lr, mse_ridge, mse_lasso, mse_ols],\n",
    "    'RMSE': [rmse_lr, rmse_ridge, rmse_lasso, rmse_ols],\n",
    "    'R-squared': [r2_lr, r2_ridge, r2_lasso, r2_ols]\n",
    "}\n",
    "\n",
    "performance = pd.DataFrame(model_info)\n",
    "performance"
   ]
  },
  {
   "cell_type": "code",
   "execution_count": null,
   "metadata": {
    "id": "PY3-N_BRPR9h"
   },
   "outputs": [],
   "source": [
    "performance['R-squared'] == performance['R-squared'].max()"
   ]
  },
  {
   "cell_type": "code",
   "execution_count": null,
   "metadata": {
    "id": "rByynqBtQpIe"
   },
   "outputs": [],
   "source": [
    "import joblib\n",
    "\n",
    "joblib.dump(ridge_model, 'best_model.pkl')"
   ]
  },
  {
   "cell_type": "code",
   "execution_count": null,
   "metadata": {
    "id": "X_qb9VpdUL_k"
   },
   "outputs": [],
   "source": [
    "best_model = joblib.load('best_model.pkl')\n",
    "\n",
    "new_data = np.array([])\n",
    "\n",
    "scaled_new_data = scaler.transform(new_data)\n",
    "\n",
    "predicted_price = best_model.predict(scaled_new_data)\n",
    "\n",
    "print('Predicted Price:', predicted_price)"
   ]
  },
  {
   "cell_type": "code",
   "execution_count": null,
   "metadata": {
    "id": "82YeF0h6WUpy"
   },
   "outputs": [],
   "source": [
    "data"
   ]
  },
  {
   "cell_type": "code",
   "execution_count": null,
   "metadata": {
    "id": "IcumwgfLWW54"
   },
   "outputs": [],
   "source": []
  }
 ],
 "metadata": {
  "colab": {
   "provenance": []
  },
  "kernelspec": {
   "display_name": "Python 3 (ipykernel)",
   "language": "python",
   "name": "python3"
  },
  "language_info": {
   "codemirror_mode": {
    "name": "ipython",
    "version": 3
   },
   "file_extension": ".py",
   "mimetype": "text/x-python",
   "name": "python",
   "nbconvert_exporter": "python",
   "pygments_lexer": "ipython3",
   "version": "3.11.7"
  }
 },
 "nbformat": 4,
 "nbformat_minor": 4
}
